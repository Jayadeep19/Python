{
 "cells": [
  {
   "cell_type": "markdown",
   "id": "0410bac1-2de8-4273-8bbd-863a7066db51",
   "metadata": {},
   "source": [
    "## lists"
   ]
  },
  {
   "cell_type": "code",
   "execution_count": 7,
   "id": "63de89ab-b154-4776-9d66-e5c7e2ee06d8",
   "metadata": {},
   "outputs": [
    {
     "name": "stdout",
     "output_type": "stream",
     "text": [
      "27\n"
     ]
    }
   ],
   "source": [
    "# A program to sum all the values of a list\n",
    "\n",
    "list1 = [2,3,4,5,6,7]\n",
    "\n",
    "sum = 0\n",
    "for i in list1:\n",
    "    sum +=i\n",
    "    \n",
    "print(sum)"
   ]
  },
  {
   "cell_type": "code",
   "execution_count": 9,
   "id": "cd951db6-e96c-4e61-907b-4e99d7cf0b50",
   "metadata": {},
   "outputs": [
    {
     "name": "stdout",
     "output_type": "stream",
     "text": [
      "5040\n"
     ]
    }
   ],
   "source": [
    "sum = 1\n",
    "for i in list1:\n",
    "    sum = sum*i\n",
    "    \n",
    "print(sum)"
   ]
  },
  {
   "cell_type": "code",
   "execution_count": 18,
   "id": "01d5e0eb-53e2-4407-95f1-81a38391f7a8",
   "metadata": {},
   "outputs": [
    {
     "name": "stdout",
     "output_type": "stream",
     "text": [
      "Highest number in the list is 7\n"
     ]
    }
   ],
   "source": [
    "'''\n",
    "newlist = list1.copy()\n",
    "newlist.sort(reverse = True)\n",
    "print(newlist[0])\n",
    "'''\n",
    "\n",
    "#more efficient way to get the larest number is:\n",
    "\n",
    "max = list1[0]\n",
    "\n",
    "for i in list1:\n",
    "    if i >max:\n",
    "        max = i\n",
    "print(f'Highest number in the list is {max}')"
   ]
  },
  {
   "cell_type": "code",
   "execution_count": 21,
   "id": "6380e232-2405-4b6a-aa66-22d5dc2f36e9",
   "metadata": {},
   "outputs": [
    {
     "name": "stdout",
     "output_type": "stream",
     "text": [
      "2\n"
     ]
    }
   ],
   "source": [
    "list2 = ['abc','xyz','aba','1221']\n",
    "\n",
    "ch = 0\n",
    "\n",
    "for i in list2:\n",
    "    if len(i)>=2 and i[0] == i[-1]:\n",
    "        ch += 1\n",
    "print(ch)"
   ]
  },
  {
   "cell_type": "code",
   "execution_count": 35,
   "id": "1e63860f-5d82-472f-93bc-74c2c50dd996",
   "metadata": {},
   "outputs": [
    {
     "name": "stdout",
     "output_type": "stream",
     "text": [
      "{1, 2, 3, 5, 6, 7, 8, 9}\n",
      "[1, 2, 3, 7, 8, 5, 9, 6]\n"
     ]
    }
   ],
   "source": [
    "list3 = [1,2,3,7,8,5,1,2,3,8,9,6,7]\n",
    "\n",
    "dup= set()\n",
    "uniq = []\n",
    "\n",
    "for x in list3:\n",
    "    if x not in dup:\n",
    "        dup.add(x)\n",
    "        uniq.append(x)\n",
    "        \n",
    "        \n",
    "print(dup)\n",
    "print(uniq)"
   ]
  },
  {
   "cell_type": "code",
   "execution_count": 37,
   "id": "6e9f9866-949d-4a2f-bb20-173bf4092a6b",
   "metadata": {},
   "outputs": [
    {
     "name": "stdout",
     "output_type": "stream",
     "text": [
      "List empty\n"
     ]
    }
   ],
   "source": [
    "list4 = []\n",
    "if not list4:\n",
    "    print('List empty')\n",
    "else:\n",
    "    print('list not empty')"
   ]
  },
  {
   "cell_type": "code",
   "execution_count": 39,
   "id": "7625e033-2751-4b90-9f34-47e99e8829f0",
   "metadata": {},
   "outputs": [
    {
     "name": "stdout",
     "output_type": "stream",
     "text": [
      "[1, 2, 3, 7, 8, 5, 1, 2, 3, 8, 9, 6, 7]\n"
     ]
    }
   ],
   "source": [
    "new = list3.copy()\n",
    "print(new)"
   ]
  },
  {
   "cell_type": "code",
   "execution_count": 48,
   "id": "a501ee75-27ad-45f9-8564-d1b36ae7e60d",
   "metadata": {},
   "outputs": [
    {
     "name": "stdout",
     "output_type": "stream",
     "text": [
      "['list', 'words', 'follows']\n"
     ]
    }
   ],
   "source": [
    "n=4\n",
    "str = 'The list of words, are as follows'\n",
    "list5 = []\n",
    "lis =str.replace(',', ' ')\n",
    "liste = lis.split(' ')\n",
    "\n",
    "for x in liste:\n",
    "    if len(x)>=4:\n",
    "        list5.append(x)\n",
    "print(list5)\n"
   ]
  },
  {
   "cell_type": "code",
   "execution_count": 50,
   "id": "9e7de709-633a-47ac-b53a-f0f8006e8caf",
   "metadata": {},
   "outputs": [],
   "source": [
    "lista = list(list3)\n",
    "listb = lista +list5"
   ]
  },
  {
   "cell_type": "code",
   "execution_count": 60,
   "id": "2d23463a-1368-49a4-8156-f3ce0085ac24",
   "metadata": {},
   "outputs": [
    {
     "name": "stdout",
     "output_type": "stream",
     "text": [
      "True\n",
      "{1, 2, 3, 5, 6, 7, 8, 9}\n"
     ]
    }
   ],
   "source": [
    "result = False\n",
    "rep = set()\n",
    "for x in lista:\n",
    "    for y in listb:\n",
    "        if x==y:\n",
    "            rep.add(x)\n",
    "            result = True\n",
    "print(result)\n",
    "print(rep)    "
   ]
  },
  {
   "cell_type": "code",
   "execution_count": null,
   "id": "2c8dc1ca-8796-4d9d-90f1-d0d9115de6d3",
   "metadata": {},
   "outputs": [],
   "source": []
  }
 ],
 "metadata": {
  "kernelspec": {
   "display_name": "Python 3 (ipykernel)",
   "language": "python",
   "name": "python3"
  },
  "language_info": {
   "codemirror_mode": {
    "name": "ipython",
    "version": 3
   },
   "file_extension": ".py",
   "mimetype": "text/x-python",
   "name": "python",
   "nbconvert_exporter": "python",
   "pygments_lexer": "ipython3",
   "version": "3.7.13"
  }
 },
 "nbformat": 4,
 "nbformat_minor": 5
}

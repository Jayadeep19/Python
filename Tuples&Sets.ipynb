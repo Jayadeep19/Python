{
 "cells": [
  {
   "cell_type": "markdown",
   "id": "33b72f82-f4a6-4773-86dc-b11c96dc1439",
   "metadata": {
    "jp-MarkdownHeadingCollapsed": true,
    "tags": []
   },
   "source": [
    "### Tuples"
   ]
  },
  {
   "cell_type": "code",
   "execution_count": 3,
   "id": "daa08adf-5744-47cd-b5be-2386bbca9410",
   "metadata": {},
   "outputs": [
    {
     "name": "stdout",
     "output_type": "stream",
     "text": [
      "('apple', 'banana', 'cherry')\n",
      "<class 'str'>\n"
     ]
    },
    {
     "ename": "TypeError",
     "evalue": "'tuple' object does not support item assignment",
     "output_type": "error",
     "traceback": [
      "\u001b[1;31m---------------------------------------------------------------------------\u001b[0m",
      "\u001b[1;31mTypeError\u001b[0m                                 Traceback (most recent call last)",
      "\u001b[1;32m~\\AppData\\Local\\Temp\\ipykernel_12632\\271075463.py\u001b[0m in \u001b[0;36m<module>\u001b[1;34m\u001b[0m\n\u001b[0;32m      4\u001b[0m \u001b[0mprint\u001b[0m\u001b[1;33m(\u001b[0m\u001b[0mtype\u001b[0m\u001b[1;33m(\u001b[0m\u001b[0mthistuple\u001b[0m\u001b[1;33m[\u001b[0m\u001b[1;36m0\u001b[0m\u001b[1;33m]\u001b[0m\u001b[1;33m)\u001b[0m\u001b[1;33m)\u001b[0m\u001b[1;33m\u001b[0m\u001b[1;33m\u001b[0m\u001b[0m\n\u001b[0;32m      5\u001b[0m \u001b[1;33m\u001b[0m\u001b[0m\n\u001b[1;32m----> 6\u001b[1;33m \u001b[0mthistuple\u001b[0m\u001b[1;33m[\u001b[0m\u001b[1;36m0\u001b[0m\u001b[1;33m]\u001b[0m\u001b[1;33m=\u001b[0m \u001b[1;34m'fruit'\u001b[0m\u001b[1;33m\u001b[0m\u001b[1;33m\u001b[0m\u001b[0m\n\u001b[0m",
      "\u001b[1;31mTypeError\u001b[0m: 'tuple' object does not support item assignment"
     ]
    }
   ],
   "source": [
    "thistuple = (\"apple\", \"banana\", \"cherry\")\n",
    "print(thistuple)\n",
    "\n",
    "print(type(thistuple[0]))\n",
    "\n",
    "\n",
    "#this doesnt wok in tuple as it is immutable datatype\n",
    "#thistuple[0]= 'fruit'"
   ]
  },
  {
   "cell_type": "code",
   "execution_count": 5,
   "id": "85e586f4-2858-4e83-aa75-6f59c7ff089a",
   "metadata": {},
   "outputs": [
    {
     "name": "stdout",
     "output_type": "stream",
     "text": [
      "<class 'tuple'>\n",
      "<class 'str'>\n"
     ]
    }
   ],
   "source": [
    "#to create a tupple with one item\n",
    "\n",
    "this_is_a_tuple = ('apple',)\n",
    "print(type(this_is_a_tuple))\n",
    "\n",
    "\n",
    "this_is_not_a_tuple= ('apple')\n",
    "print(type(this_is_not_a_tuple))\n"
   ]
  },
  {
   "cell_type": "code",
   "execution_count": 7,
   "id": "fe6623e3-8011-44fa-8739-bb068727763e",
   "metadata": {},
   "outputs": [
    {
     "name": "stdout",
     "output_type": "stream",
     "text": [
      "('fruits', 'banana', 'cherry')\n",
      "<class 'tuple'>\n"
     ]
    }
   ],
   "source": [
    "#but tuple can be converted to list and change and then change t back to tuple\n",
    "\n",
    "lis = list(thistuple)\n",
    "lis[0]= 'fruits'\n",
    "\n",
    "thistuple = tuple(lis)\n",
    "\n",
    "print(thistuple)\n",
    "print(type(thistuple))"
   ]
  },
  {
   "cell_type": "code",
   "execution_count": 10,
   "id": "3950fd51-9201-4819-9c98-3a53bd5e76a9",
   "metadata": {},
   "outputs": [
    {
     "name": "stdout",
     "output_type": "stream",
     "text": [
      "apple\n",
      "banana\n",
      "cherry\n"
     ]
    }
   ],
   "source": [
    "fruits = (\"apple\", \"banana\", \"cherry\")\n",
    "\n",
    "(green, yellow, red) = fruits\n",
    "\n",
    "print(green)\n",
    "print(yellow)\n",
    "print(red)\n"
   ]
  },
  {
   "cell_type": "code",
   "execution_count": null,
   "id": "c5848aab-d3a2-446e-990c-c5c36a550914",
   "metadata": {},
   "outputs": [],
   "source": []
  },
  {
   "cell_type": "markdown",
   "id": "5ab0f00d-5dfb-467c-8860-092c9d4cc56f",
   "metadata": {
    "jp-MarkdownHeadingCollapsed": true,
    "tags": []
   },
   "source": [
    "### Sets"
   ]
  },
  {
   "cell_type": "code",
   "execution_count": 4,
   "id": "d8804c3c-26e1-4fa6-8865-48cd184d7c7d",
   "metadata": {},
   "outputs": [
    {
     "name": "stdout",
     "output_type": "stream",
     "text": [
      "{'banana', 'cherry', 'apple'}\n"
     ]
    }
   ],
   "source": [
    "myset = {'apple','banana', 'cherry'}\n",
    "print(myset)"
   ]
  },
  {
   "cell_type": "code",
   "execution_count": 12,
   "id": "e42f5c5c-00c0-40c7-bbd2-2fb29a9e0b72",
   "metadata": {},
   "outputs": [
    {
     "name": "stdout",
     "output_type": "stream",
     "text": [
      "1) x-{'banana', 'cherry', 'apple'}\n",
      "2) y-{'microsoft', 'google', 'apple'}\n",
      "\n",
      "method1-\n",
      "x.difference(y)= {'cherry', 'banana'}\n",
      "\n",
      "method2-\n",
      "x.symmetric_difference(y)= {'cherry', 'microsoft', 'banana', 'google'}\n",
      "\n",
      "method3-\n",
      "x.itersection(y)= {'apple'}\n"
     ]
    }
   ],
   "source": [
    "#Run it to understand the difference between three types of set.methods\n",
    "\n",
    "myset = {'apple','banana', 'cherry'}\n",
    "myset2 = {'microsoft','google','apple'}\n",
    "print(f'''1) x-{myset}\n",
    "2) y-{myset2}\\n''')\n",
    "# 1- difference:\n",
    "z1 = myset.difference(myset2)\n",
    "print('method1-\\nx.difference(y)= {}\\n'.format(z1))\n",
    "z2 = myset.symmetric_difference(myset2)\n",
    "print('method2-\\nx.symmetric_difference(y)= {}\\n'.format(z2))\n",
    "z3 = myset.intersection(myset2)\n",
    "print('method3-\\nx.itersection(y)= {}'.format(z3))"
   ]
  },
  {
   "cell_type": "code",
   "execution_count": 13,
   "id": "f0cb35ea-7249-47fa-a0d3-296d9d78e2ae",
   "metadata": {},
   "outputs": [
    {
     "name": "stdout",
     "output_type": "stream",
     "text": [
      "False\n"
     ]
    }
   ],
   "source": [
    "# disjoint\n",
    "# determines wether two sets have an intersection\n",
    "#returns True if no intersection is found but returns false if ntersection is found\n",
    "z4 = myset.isdisjoint(myset2)\n",
    "print(z4)\n"
   ]
  },
  {
   "cell_type": "code",
   "execution_count": null,
   "id": "b98ca507-3b76-4606-aa21-435b2c089de6",
   "metadata": {},
   "outputs": [],
   "source": []
  },
  {
   "cell_type": "code",
   "execution_count": null,
   "id": "0c149c4b-71ec-4e5d-921b-5a7f153d6929",
   "metadata": {},
   "outputs": [],
   "source": []
  },
  {
   "cell_type": "code",
   "execution_count": null,
   "id": "485e0c2f-d277-4951-94da-cbc79865f7bf",
   "metadata": {},
   "outputs": [],
   "source": []
  }
 ],
 "metadata": {
  "kernelspec": {
   "display_name": "Python 3 (ipykernel)",
   "language": "python",
   "name": "python3"
  },
  "language_info": {
   "codemirror_mode": {
    "name": "ipython",
    "version": 3
   },
   "file_extension": ".py",
   "mimetype": "text/x-python",
   "name": "python",
   "nbconvert_exporter": "python",
   "pygments_lexer": "ipython3",
   "version": "3.7.13"
  }
 },
 "nbformat": 4,
 "nbformat_minor": 5
}
